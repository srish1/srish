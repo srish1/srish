{
 "cells": [
  {
   "cell_type": "raw",
   "id": "6077f7b0",
   "metadata": {},
   "source": [
    "# 1. values are 'hello', -87.8, 6   (integers and strings)\n",
    "expressions are *,-,/,+.   (mathematical operators)"
   ]
  },
  {
   "cell_type": "raw",
   "id": "e930c55a",
   "metadata": {},
   "source": [
    "2.variable is the name of the location where a value is assigned whereas string is the type of variable in which you assign values in (single or double) quotes.eg. x=10 , x is a variable of integer type and y=\"10\" , y is the variable of string type."
   ]
  },
  {
   "cell_type": "raw",
   "id": "9beb011a",
   "metadata": {},
   "source": [
    "3. 3 different types of data types are \n",
    "a)integer which represents all the whole numbers. eg. 0,1,200 etc.\n",
    "b)floats which represents decimal values. eg. 2.1, 3.45, 0.3 etc.\n",
    "c)boolean which represents value in true and false."
   ]
  },
  {
   "cell_type": "raw",
   "id": "23e071a1",
   "metadata": {},
   "source": [
    "4. expression is made of operands (eg. variables a,b,etc) and operators are mathematical operators (eg. +,-,*,/.). Expression with the help of  operator and operands perform ."
   ]
  },
  {
   "cell_type": "raw",
   "id": "9c9b6f30",
   "metadata": {},
   "source": [
    "5. Statements represents an action or command statements like assigment statement spam =10 whereas expression contains operators, operands and values."
   ]
  },
  {
   "cell_type": "raw",
   "id": "e743f371",
   "metadata": {},
   "source": [
    "bacon = 22\n",
    "bacon + 1\n",
    "print(bacon) "
   ]
  },
  {
   "cell_type": "raw",
   "id": "aa65116e",
   "metadata": {},
   "source": [
    "7. both the expression will give 'spamspamspam'"
   ]
  },
  {
   "cell_type": "raw",
   "id": "4c7ca807",
   "metadata": {},
   "source": [
    "8.number cannot be assigned as a variable."
   ]
  },
  {
   "cell_type": "raw",
   "id": "b22364ba",
   "metadata": {},
   "source": [
    "9.int() for integer , float() for decimal, str() for strings."
   ]
  },
  {
   "cell_type": "raw",
   "id": "514c0c27",
   "metadata": {},
   "source": [
    "10.'I have eaten'+99+'burritos' in this 99 is an integer so will return error therefore for string concatanation it should be 'i have eaten' + str(99) +'burritos'."
   ]
  }
 ],
 "metadata": {
  "kernelspec": {
   "display_name": "Python 3",
   "language": "python",
   "name": "python3"
  },
  "language_info": {
   "codemirror_mode": {
    "name": "ipython",
    "version": 3
   },
   "file_extension": ".py",
   "mimetype": "text/x-python",
   "name": "python",
   "nbconvert_exporter": "python",
   "pygments_lexer": "ipython3",
   "version": "3.8.8"
  }
 },
 "nbformat": 4,
 "nbformat_minor": 5
}
